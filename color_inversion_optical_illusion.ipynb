{
  "nbformat": 4,
  "nbformat_minor": 0,
  "metadata": {
    "colab": {
      "name": "color-inversion-optical-illusion.ipynb",
      "provenance": [],
      "authorship_tag": "ABX9TyPqEFAWqNKQxyjo/luelLZs",
      "include_colab_link": true
    },
    "kernelspec": {
      "name": "python3",
      "display_name": "Python 3"
    },
    "language_info": {
      "name": "python"
    }
  },
  "cells": [
    {
      "cell_type": "markdown",
      "metadata": {
        "id": "view-in-github",
        "colab_type": "text"
      },
      "source": [
        "<a href=\"https://colab.research.google.com/github/guptashubhankar06/imageprocessing/blob/main/color_inversion_optical_illusion.ipynb\" target=\"_parent\"><img src=\"https://colab.research.google.com/assets/colab-badge.svg\" alt=\"Open In Colab\"/></a>"
      ]
    },
    {
      "cell_type": "markdown",
      "metadata": {
        "id": "moOm7sQJ__Ec"
      },
      "source": [
        "### **Generating chromatic inversion-induced optical illusions using PIL**\n",
        "In this colab notebook, we present a fully automated method to generate an optical illusion gif. More information given in the repository below!\n",
        "Made by: \n",
        "> [Shubhankar Gupta](https://github.com/guptashubhankar06) - Delhi Public School RK Puram\n",
        "\n",
        "> [Dr. Bernhard Egger](https://github.com/BernhardEgger) - Massachusetts Institute of Technology \n",
        "\n",
        "<img src=\"https://deeplearning.mit.edu/files/images/github/icon_github.png\" style=\"padding-bottom:5px;\"/>[View more about it on GitHub](https://github.com/guptashubhankar06/imageprocessing)</a></td>\n",
        "\n",
        "<img src=\"https://deeplearning.mit.edu/files/images/github/icon_google_colab.png\" style=\"padding-bottom:5px;\" />[Run in Google Colab](https://colab.research.google.com/drive/1wpE8RGPLfCFGWVP3B3LRGi7sjrFSqIlz?usp=sharing)</a></td>\n",
        "\n"
      ]
    },
    {
      "cell_type": "code",
      "metadata": {
        "id": "H80GugG1F58f"
      },
      "source": [
        "from PIL import Image, ImageOps, ImageDraw\n",
        "\n",
        "def make_gif(imgpath):\n",
        "    frames = []\n",
        "    image = Image.open(imgpath)\n",
        "    imgGray = image.convert('L')\n",
        "    draw2 = ImageDraw.Draw(imgGray)\n",
        "\n",
        "    wbw, hbw = imgGray.size\n",
        "    x = 0\n",
        "    y = hbw/1.1\n",
        "    offset = 0\n",
        "    for number in range(wbw//30):\n",
        "        offset += 30\n",
        "        image = Image.open(imgpath)\n",
        "        inverted = ImageOps.invert(image)\n",
        "        draw = ImageDraw.Draw(inverted)\n",
        "        w1, h1 = inverted.size\n",
        "\n",
        "        widthofbar = h1 // 40\n",
        "\n",
        "        step = 10\n",
        "        for n in range(step, w1, step):\n",
        "            for p in range(step, h1 - step, step):\n",
        "                draw.point((n, p))\n",
        "        draw.ellipse((w1 / 2 - 5, h1 / 2 - 5, w1 / 2 + 5, h1 / 2 + 5), fill=(0, 0, 0))\n",
        "        frames.append(inverted)\n",
        "        draw.line((x, y, x + offset, y), fill=\"white\", width=widthofbar)\n",
        "        x += 00\n",
        "        y += 00\n",
        "    step = 10\n",
        "    for n in range(step, wbw, step):\n",
        "        for x in range(step, hbw - step, step):\n",
        "            draw2.point((n, x), fill=\"yellow\")\n",
        "    for i in range(20):\n",
        "        frames.append(imgGray)\n",
        "\n",
        "\n",
        "    duration = 240000/wbw\n",
        "    frame_one = frames[0]\n",
        "    frame_one.save(\"illusion.gif\", format=\"GIF\", append_images=frames,\n",
        "                   save_all=True, duration=duration, quality=70, loop = 1)"
      ],
      "execution_count": null,
      "outputs": []
    },
    {
      "cell_type": "markdown",
      "metadata": {
        "id": "n7jjs6eyGEUf"
      },
      "source": [
        "Run the code below to upload a file\n",
        "```\n",
        "from google.colab import files\n",
        "files.upload()\n",
        "```"
      ]
    },
    {
      "cell_type": "code",
      "metadata": {
        "id": "PM8hk9Y8F-Bw"
      },
      "source": [
        "#use .png/.jpeg/.jpg\n",
        "imgpath = 'path.jpeg'\n",
        "make_gif(imgpath)"
      ],
      "execution_count": null,
      "outputs": []
    },
    {
      "cell_type": "markdown",
      "metadata": {
        "id": "Bvk8zkKFFUFM"
      },
      "source": [
        "Now, open the file `illusion.gif` to access the illusion! You can read more about it [here](https://t3hz0r.com/post/colour-afterimage-optical-illusion-tutorial/)\n",
        "\n"
      ]
    }
  ]
}